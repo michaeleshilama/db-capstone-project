{
 "cells": [
  {
   "cell_type": "code",
   "execution_count": 1,
   "id": "e1ffd221",
   "metadata": {},
   "outputs": [],
   "source": [
    "# Please review the README.MD file from the downloaded githib folder first thank you\n",
    "#dont forget to change the password...I think it will need to be set to your local computers DB password\n",
    "\n",
    "import mysql.connector as connector"
   ]
  },
  {
   "cell_type": "code",
   "execution_count": 3,
   "id": "88a7e57a",
   "metadata": {},
   "outputs": [],
   "source": [
    "connection = connector.connect(user=\"superadmin\",password=\"superadmin1318\",host='localhost',database='littlelemondb')"
   ]
  },
  {
   "cell_type": "code",
   "execution_count": 9,
   "id": "40c9022d",
   "metadata": {},
   "outputs": [
    {
     "name": "stdout",
     "output_type": "stream",
     "text": [
      "('Tables_in_littlelemondb',)\n",
      "('bookings',)\n",
      "('customers',)\n",
      "('menu',)\n",
      "('morethan2orders',)\n",
      "('orderdeliverystatus',)\n",
      "('orders',)\n",
      "('ordersabove150',)\n",
      "('ordersview',)\n",
      "('staff',)\n"
     ]
    }
   ],
   "source": [
    "# Task 2 showing the tables in the DB\n",
    "cursor = connection.cursor()\n",
    "cursor.execute(\"\"\"show tables\"\"\")\n",
    "result = cursor.fetchall()\n",
    "\n",
    "print(cursor.column_names)\n",
    "for x in result:\n",
    "    print(x)"
   ]
  },
  {
   "cell_type": "code",
   "execution_count": 16,
   "id": "6dbfda74",
   "metadata": {},
   "outputs": [
    {
     "name": "stdout",
     "output_type": "stream",
     "text": [
      "('FullName', 'Address', 'PhoneNumber')\n",
      "('John Doe', '123 Main Street', '555-1234')\n",
      "('Jane Smith', '456 Elm Avenue', '555-5678')\n",
      "('Sara Lee', '987 Maple Street', '555-2345')\n",
      "('Michael Davis', '111 Birch Avenue', '555-6789')\n",
      "('Emily White', '222 Spruce Lane', '555-0123')\n",
      "('James Miller', '333 Oak Road', '555-4567')\n",
      "('Olivia Taylor', '444 Elm Street', '555-8901')\n",
      "('Ava Garcia', '666 Cedar Lane', '555-7890')\n",
      "('Sophia Robinson', '888 Birch Drive', '555-6789')\n",
      "('Ethan Hall', '222 Elm Lane', '555-8901')\n",
      "('Abigail Wright', '333 Pine Drive', '555-3456')\n"
     ]
    }
   ],
   "source": [
    "# Task 3 Join query to get customer info for orders placed\n",
    "# that are more than $60\n",
    "# added a nested query to remove duplicates if the issue arises \n",
    "\n",
    "cursor.execute(\"\"\"\n",
    "select Name as FullName, Address, PhoneNumber\n",
    "from Customers where Name = \n",
    "any(select c.Name\n",
    "from Customers as c\n",
    "inner join Bookings as b on b.CustomerID = c.CustomerID\n",
    "inner join Orders as o on o.BookingID = b.BookingID\n",
    "where o.TotalCost >60)\n",
    "\"\"\")\n",
    "\n",
    "result = cursor.fetchall()\n",
    "\n",
    "print(cursor.column_names)\n",
    "for x in result:\n",
    "    print(x)\n",
    "\n",
    "\n"
   ]
  },
  {
   "cell_type": "code",
   "execution_count": null,
   "id": "c7bff4b1",
   "metadata": {},
   "outputs": [],
   "source": []
  }
 ],
 "metadata": {
  "kernelspec": {
   "display_name": "Python 3 (ipykernel)",
   "language": "python",
   "name": "python3"
  },
  "language_info": {
   "codemirror_mode": {
    "name": "ipython",
    "version": 3
   },
   "file_extension": ".py",
   "mimetype": "text/x-python",
   "name": "python",
   "nbconvert_exporter": "python",
   "pygments_lexer": "ipython3",
   "version": "3.11.4"
  }
 },
 "nbformat": 4,
 "nbformat_minor": 5
}
